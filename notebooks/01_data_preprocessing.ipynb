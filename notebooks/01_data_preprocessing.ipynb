{
 "cells": [
  {
   "cell_type": "code",
   "execution_count": 3,
   "id": "a8ec7eb7-13f4-4021-aa54-1ea253e577f6",
   "metadata": {},
   "outputs": [],
   "source": [
    "import sys\n",
    "import os\n",
    "import pandas as pd\n",
    "\n",
    "\n",
    "# 1) On récupère le chemin absolu du dossier parent (la racine du projet)\n",
    "project_root = os.path.abspath(os.path.join(os.getcwd(), \"..\"))\n",
    "\n",
    "# 2) On ajoute ce dossier à sys.path, pour que Python sache que 'src/' s'y trouve\n",
    "if project_root not in sys.path:\n",
    "    sys.path.append(project_root)\n",
    "\n",
    "# Maintenant, on peut importer normalement depuis src/\n",
    "from src.data_loader import download_commodity, save_csv, load_csv\n",
    "from src.preprocessing import compute_log_returns"
   ]
  },
  {
   "cell_type": "code",
   "execution_count": 28,
   "id": "7d848ddb-e916-4d11-9133-d7db583c790f",
   "metadata": {},
   "outputs": [],
   "source": [
    "# Sauvegarde des données traitées\n",
    "RAW_DIR = os.path.join(\"..\", \"data\", \"raw\")        # ../data/raw/\n",
    "PROCESSED_DIR = os.path.join(\"..\", \"data\", \"processed\")  # ../data/processed/\n",
    "\n",
    "os.makedirs(RAW_DIR, exist_ok=True)\n",
    "os.makedirs(PROCESSED_DIR, exist_ok=True)\n",
    "\n",
    "ticker = \"GC=F\"\n",
    "start_date = \"2015-01-01\"\n",
    "end_date = \"2025-06-05\" \n",
    "df_or = download_commodity(ticker, start=start_date, end=end_date)\n",
    "#print(df_or.head())\n",
    "\n",
    "raw_file_path = os.path.join(RAW_DIR, \"GC_F.csv\")\n",
    "save_csv(df_or, raw_file_path)\n",
    "#print(f\"Fichier brut sauvegardé sous : {raw_file_path}\")\n"
   ]
  },
  {
   "cell_type": "code",
   "execution_count": 29,
   "id": "eb5e932e-360e-4c63-b5a9-6ee76a853713",
   "metadata": {},
   "outputs": [
    {
     "name": "stdout",
     "output_type": "stream",
     "text": [
      "Série de retours sauvegardée sous : ..\\data\\processed\\GC_F_returns.csv\n"
     ]
    }
   ],
   "source": [
    "chemin = raw_file_path \n",
    "\n",
    "df = pd.read_csv(\n",
    "    chemin,\n",
    "    skiprows=2,            # <-- on ignore les deux premières lignes\n",
    "    parse_dates=[\"Date\"],  # <-- on convertit la colonne \"Date\" en datetime\n",
    "    index_col=\"Date\"       # <-- on place cette colonne en tant qu'index\n",
    ")\n",
    "\n",
    "Close = df[\"Unnamed: 1\"]\n",
    "returns_or = compute_log_returns(Close)\n",
    "returns_file_path = os.path.join(PROCESSED_DIR, \"GC_F_returns.csv\")\n",
    "returns_or.to_frame(name=\"LogReturn\").to_csv(returns_file_path)\n",
    "print(f\"Série de retours sauvegardée sous : {returns_file_path}\")"
   ]
  },
  {
   "cell_type": "code",
   "execution_count": null,
   "id": "934b49a8-7e02-4061-82eb-e0b88eb7453a",
   "metadata": {},
   "outputs": [],
   "source": []
  }
 ],
 "metadata": {
  "kernelspec": {
   "display_name": "Python 3 (ipykernel)",
   "language": "python",
   "name": "python3"
  },
  "language_info": {
   "codemirror_mode": {
    "name": "ipython",
    "version": 3
   },
   "file_extension": ".py",
   "mimetype": "text/x-python",
   "name": "python",
   "nbconvert_exporter": "python",
   "pygments_lexer": "ipython3",
   "version": "3.11.9"
  }
 },
 "nbformat": 4,
 "nbformat_minor": 5
}
